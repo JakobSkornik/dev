{
 "cells": [
  {
   "cell_type": "code",
   "execution_count": 17,
   "metadata": {},
   "outputs": [],
   "source": [
    "from confluent_kafka import Consumer, KafkaException, KafkaError\n",
    "import avro.schema\n",
    "import avro.io\n",
    "import io\n",
    "import sys"
   ]
  },
  {
   "cell_type": "code",
   "execution_count": 18,
   "metadata": {},
   "outputs": [],
   "source": [
    "cfg = {\n",
    "    \"bootstrap.servers\": \"kafka:9092\",\n",
    "    \"group.id\": \"group-t1\",\n",
    "    \"default.topic.config\": {\"auto.offset.reset\": \"earliest\"}}"
   ]
  },
  {
   "cell_type": "code",
   "execution_count": 19,
   "metadata": {},
   "outputs": [],
   "source": [
    "consumer = Consumer(**cfg)\n",
    "consumer.subscribe(['t1'])"
   ]
  },
  {
   "cell_type": "code",
   "execution_count": 20,
   "metadata": {},
   "outputs": [],
   "source": [
    "def load_scheme(scheme_file):\n",
    "    return avro.schema.Parse(open(scheme_file).read())"
   ]
  },
  {
   "cell_type": "code",
   "execution_count": 21,
   "metadata": {},
   "outputs": [
    {
     "data": {
      "text/plain": [
       "<avro.schema.RecordSchema at 0x7ff314670190>"
      ]
     },
     "execution_count": 21,
     "metadata": {},
     "output_type": "execute_result"
    }
   ],
   "source": [
    "scheme = load_scheme(\"iris-scheme.avsc\")\n",
    "scheme"
   ]
  },
  {
   "cell_type": "code",
   "execution_count": 26,
   "metadata": {},
   "outputs": [
    {
     "name": "stderr",
     "output_type": "stream",
     "text": [
      "Keyboard interrupt..."
     ]
    }
   ],
   "source": [
    "try:\n",
    "    running = True\n",
    "    while running:\n",
    "        msg = consumer.poll(timeout=60000)\n",
    "        if msg is None:\n",
    "            continue\n",
    "        if msg.error():\n",
    "            if msg.error().code() == KafkaError._PARTITION_EOF:\n",
    "                sys.stderr.write(\"Reached end.\")\n",
    "            elif msg.error():\n",
    "                raise KafkaException(msg.error())\n",
    "        message = msg.value()\n",
    "        bytes_reader = io.BytesIO(message)\n",
    "        deserialzer = avro.io.BinaryDecoder(bytes_reader)\n",
    "        reader = avro.io.DatumReader(scheme)\n",
    "        try:\n",
    "            decoded = reader.read(deserialzer)\n",
    "            print(decoded)\n",
    "            sys.stdout.flush()\n",
    "        except AssertionError:\n",
    "            continue\n",
    "except KeyboardInterrupt:\n",
    "    sys.stderr.write(\"Keyboard interrupt...\")"
   ]
  },
  {
   "cell_type": "code",
   "execution_count": null,
   "metadata": {},
   "outputs": [],
   "source": []
  }
 ],
 "metadata": {
  "kernelspec": {
   "display_name": "Python 3",
   "language": "python",
   "name": "python3"
  },
  "language_info": {
   "codemirror_mode": {
    "name": "ipython",
    "version": 3
   },
   "file_extension": ".py",
   "mimetype": "text/x-python",
   "name": "python",
   "nbconvert_exporter": "python",
   "pygments_lexer": "ipython3",
   "version": "3.8.6"
  }
 },
 "nbformat": 4,
 "nbformat_minor": 4
}
