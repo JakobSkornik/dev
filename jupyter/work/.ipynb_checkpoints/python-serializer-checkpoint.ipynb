{
 "cells": [
  {
   "cell_type": "code",
   "execution_count": 6,
   "metadata": {
    "collapsed": true
   },
   "outputs": [
    {
     "name": "stdout",
     "output_type": "stream",
     "text": [
      "Collecting package metadata (current_repodata.json): done\n",
      "Solving environment: done\n",
      "\n",
      "## Package Plan ##\n",
      "\n",
      "  environment location: /opt/conda\n",
      "\n",
      "  added / updated specs:\n",
      "    - python-avro\n",
      "\n",
      "\n",
      "The following packages will be downloaded:\n",
      "\n",
      "    package                    |            build\n",
      "    ---------------------------|-----------------\n",
      "    python-avro-1.10.0         |   py38h32f6830_1          66 KB  conda-forge\n",
      "    ------------------------------------------------------------\n",
      "                                           Total:          66 KB\n",
      "\n",
      "The following NEW packages will be INSTALLED:\n",
      "\n",
      "  python-avro        conda-forge/linux-64::python-avro-1.10.0-py38h32f6830_1\n",
      "\n",
      "\n",
      "\n",
      "Downloading and Extracting Packages\n",
      "python-avro-1.10.0   | 66 KB     | ##################################### | 100% \n",
      "Preparing transaction: done\n",
      "Verifying transaction: done\n",
      "Executing transaction: done\n"
     ]
    }
   ],
   "source": [
    "#!conda install -c conda-forge python-confluent-kafka -y\n",
    "#!conda install -c conda-forge python-avro -y"
   ]
  },
  {
   "cell_type": "code",
   "execution_count": 4,
   "metadata": {},
   "outputs": [],
   "source": [
    "import io"
   ]
  },
  {
   "cell_type": "code",
   "execution_count": 23,
   "metadata": {},
   "outputs": [],
   "source": [
    "from confluent_kafka import Producer, KafkaError, avro\n",
    "from confluent_kafka.avro import AvroProducer\n",
    "import avro.io\n",
    "import csv"
   ]
  },
  {
   "cell_type": "code",
   "execution_count": 21,
   "metadata": {},
   "outputs": [],
   "source": [
    "def load_scheme(scheme_file):\n",
    "    return avro.schema.Parse(open(scheme_file).read())"
   ]
  },
  {
   "cell_type": "code",
   "execution_count": 24,
   "metadata": {},
   "outputs": [
    {
     "data": {
      "text/plain": [
       "<avro.schema.RecordSchema at 0x7f036127c0d0>"
      ]
     },
     "execution_count": 24,
     "metadata": {},
     "output_type": "execute_result"
    }
   ],
   "source": [
    "scheme = load_scheme(\"iris-scheme.avsc\")\n",
    "scheme"
   ]
  },
  {
   "cell_type": "code",
   "execution_count": 27,
   "metadata": {},
   "outputs": [],
   "source": [
    "cfg = {\n",
    "    \"bootstrap.servers\": \"kafka:9092\"\n",
    "}"
   ]
  },
  {
   "cell_type": "code",
   "execution_count": 28,
   "metadata": {},
   "outputs": [],
   "source": [
    "producer = Producer(**cfg)"
   ]
  },
  {
   "cell_type": "code",
   "execution_count": 33,
   "metadata": {},
   "outputs": [],
   "source": [
    "def produce_from_file(file):\n",
    "    with open(file) as f:\n",
    "        lines = f.readlines()\n",
    "        i = 0\n",
    "        for line in lines:\n",
    "            if i > 0:\n",
    "                writer = avro.io.DatumWriter(scheme)\n",
    "                bytes_writer = io.BytesIO()\n",
    "                serializer = avro.io.BinaryEncoder(bytes_writer)\n",
    "                line = line.strip(\"\\n\")\n",
    "                els = line.split(\",\")\n",
    "                writer.write({\"iris_type\" : els[4],\n",
    "                              \"sepal_length\" : float(els[0]),\n",
    "                              \"sepal_width\" : float(els[1]),\n",
    "                              \"petal_length\" : float(els[2]),\n",
    "                              \"petal_width\" : float(els[3])}, serializer)\n",
    "                raw_bytes = bytes_writer.getvalue()\n",
    "                producer.produce('t1', raw_bytes)\n",
    "            i = i + 1\n",
    "            \n",
    "    producer.flush()\n",
    "            "
   ]
  },
  {
   "cell_type": "code",
   "execution_count": 34,
   "metadata": {},
   "outputs": [
    {
     "name": "stderr",
     "output_type": "stream",
     "text": [
      "<ipython-input-33-c4b51150227e>:17: DeprecationWarning: PY_SSIZE_T_CLEAN will be required for '#' formats\n",
      "  producer.produce('t1', raw_bytes)\n"
     ]
    }
   ],
   "source": [
    "produce_from_file('iris.csv')"
   ]
  },
  {
   "cell_type": "code",
   "execution_count": null,
   "metadata": {},
   "outputs": [],
   "source": []
  }
 ],
 "metadata": {
  "kernelspec": {
   "display_name": "Python 3",
   "language": "python",
   "name": "python3"
  },
  "language_info": {
   "codemirror_mode": {
    "name": "ipython",
    "version": 3
   },
   "file_extension": ".py",
   "mimetype": "text/x-python",
   "name": "python",
   "nbconvert_exporter": "python",
   "pygments_lexer": "ipython3",
   "version": "3.8.5"
  }
 },
 "nbformat": 4,
 "nbformat_minor": 4
}
